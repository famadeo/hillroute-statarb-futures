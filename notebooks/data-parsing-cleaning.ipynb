{
 "cells": [
  {
   "cell_type": "markdown",
   "id": "6c0f3f58",
   "metadata": {},
   "source": [
    "# Introduction\n",
    "\n",
    "This notebook provides a comprehensive workflow for cleaning, analyzing, and imputing cryptocurrency futures data. It covers the following key steps:\n",
    "\n",
    "- **Data Loading and Exploration:**  \n",
    "    The raw 1-minute BTC futures data is loaded and basic statistics are explored.\n",
    "\n",
    "- **Data Cleaning:**  \n",
    "    Missing values and invalid entries are identified and handled to ensure data integrity.\n",
    "\n",
    "- **Index Continuity and Gap Detection:**  \n",
    "    The time index is checked for continuity, and missing intervals (gaps) are detected and analyzed.\n",
    "\n",
    "- **Gap Imputation:**  \n",
    "    Large gaps in the time series are filled using a Brownian bridge method to generate realistic synthetic data.\n",
    "\n",
    "- **Final Forward-Filling:**  \n",
    "    Any remaining small gaps are forward-filled to guarantee a fully continuous 1-minute time series for each contract.\n",
    "\n",
    "- **Data Persistence:**  \n",
    "    The cleaned and imputed dataset is saved for future analysis and modeling.\n"
   ]
  },
  {
   "cell_type": "code",
   "execution_count": 2,
   "id": "5f14f841",
   "metadata": {},
   "outputs": [],
   "source": [
    "import pandas as pd\n",
    "import numpy as np\n",
    "import matplotlib.pyplot as plt"
   ]
  },
  {
   "cell_type": "code",
   "execution_count": 3,
   "id": "507cd189",
   "metadata": {},
   "outputs": [],
   "source": [
    "df = pd.read_csv('../data/btc_1m_futures_data.csv')"
   ]
  },
  {
   "cell_type": "code",
   "execution_count": 4,
   "id": "e3035017",
   "metadata": {},
   "outputs": [
    {
     "data": {
      "application/vnd.microsoft.datawrangler.viewer.v0+json": {
       "columns": [
        {
         "name": "index",
         "rawType": "int64",
         "type": "integer"
        },
        {
         "name": "Unnamed: 0",
         "rawType": "object",
         "type": "string"
        },
        {
         "name": "symbol",
         "rawType": "object",
         "type": "string"
        },
        {
         "name": "open",
         "rawType": "float64",
         "type": "float"
        },
        {
         "name": "high",
         "rawType": "float64",
         "type": "float"
        },
        {
         "name": "low",
         "rawType": "float64",
         "type": "float"
        },
        {
         "name": "close",
         "rawType": "float64",
         "type": "float"
        },
        {
         "name": "volume",
         "rawType": "float64",
         "type": "float"
        }
       ],
       "ref": "fa410dd5-0bc3-4560-81d4-4308ce3a69a9",
       "rows": [
        [
         "0",
         "2021-12-31 16:00:00",
         "BTC-USDT-220107",
         "47952.0",
         "47973.2",
         "47886.1",
         "47952.9",
         "1420.0"
        ],
        [
         "1",
         "2021-12-31 16:01:00",
         "BTC-USDT-220107",
         "47953.6",
         "47958.7",
         "47899.2",
         "47899.2",
         "386.0"
        ],
        [
         "2",
         "2021-12-31 16:02:00",
         "BTC-USDT-220107",
         "47898.5",
         "47939.0",
         "47896.3",
         "47916.5",
         "157.0"
        ],
        [
         "3",
         "2021-12-31 16:03:00",
         "BTC-USDT-220107",
         "47915.4",
         "47921.7",
         "47867.0",
         "47902.0",
         "118.0"
        ],
        [
         "4",
         "2021-12-31 16:04:00",
         "BTC-USDT-220107",
         "47904.6",
         "47915.0",
         "47888.4",
         "47906.2",
         "97.0"
        ]
       ],
       "shape": {
        "columns": 7,
        "rows": 5
       }
      },
      "text/html": [
       "<div>\n",
       "<style scoped>\n",
       "    .dataframe tbody tr th:only-of-type {\n",
       "        vertical-align: middle;\n",
       "    }\n",
       "\n",
       "    .dataframe tbody tr th {\n",
       "        vertical-align: top;\n",
       "    }\n",
       "\n",
       "    .dataframe thead th {\n",
       "        text-align: right;\n",
       "    }\n",
       "</style>\n",
       "<table border=\"1\" class=\"dataframe\">\n",
       "  <thead>\n",
       "    <tr style=\"text-align: right;\">\n",
       "      <th></th>\n",
       "      <th>Unnamed: 0</th>\n",
       "      <th>symbol</th>\n",
       "      <th>open</th>\n",
       "      <th>high</th>\n",
       "      <th>low</th>\n",
       "      <th>close</th>\n",
       "      <th>volume</th>\n",
       "    </tr>\n",
       "  </thead>\n",
       "  <tbody>\n",
       "    <tr>\n",
       "      <th>0</th>\n",
       "      <td>2021-12-31 16:00:00</td>\n",
       "      <td>BTC-USDT-220107</td>\n",
       "      <td>47952.0</td>\n",
       "      <td>47973.2</td>\n",
       "      <td>47886.1</td>\n",
       "      <td>47952.9</td>\n",
       "      <td>1420.0</td>\n",
       "    </tr>\n",
       "    <tr>\n",
       "      <th>1</th>\n",
       "      <td>2021-12-31 16:01:00</td>\n",
       "      <td>BTC-USDT-220107</td>\n",
       "      <td>47953.6</td>\n",
       "      <td>47958.7</td>\n",
       "      <td>47899.2</td>\n",
       "      <td>47899.2</td>\n",
       "      <td>386.0</td>\n",
       "    </tr>\n",
       "    <tr>\n",
       "      <th>2</th>\n",
       "      <td>2021-12-31 16:02:00</td>\n",
       "      <td>BTC-USDT-220107</td>\n",
       "      <td>47898.5</td>\n",
       "      <td>47939.0</td>\n",
       "      <td>47896.3</td>\n",
       "      <td>47916.5</td>\n",
       "      <td>157.0</td>\n",
       "    </tr>\n",
       "    <tr>\n",
       "      <th>3</th>\n",
       "      <td>2021-12-31 16:03:00</td>\n",
       "      <td>BTC-USDT-220107</td>\n",
       "      <td>47915.4</td>\n",
       "      <td>47921.7</td>\n",
       "      <td>47867.0</td>\n",
       "      <td>47902.0</td>\n",
       "      <td>118.0</td>\n",
       "    </tr>\n",
       "    <tr>\n",
       "      <th>4</th>\n",
       "      <td>2021-12-31 16:04:00</td>\n",
       "      <td>BTC-USDT-220107</td>\n",
       "      <td>47904.6</td>\n",
       "      <td>47915.0</td>\n",
       "      <td>47888.4</td>\n",
       "      <td>47906.2</td>\n",
       "      <td>97.0</td>\n",
       "    </tr>\n",
       "  </tbody>\n",
       "</table>\n",
       "</div>"
      ],
      "text/plain": [
       "            Unnamed: 0           symbol     open     high      low    close  \\\n",
       "0  2021-12-31 16:00:00  BTC-USDT-220107  47952.0  47973.2  47886.1  47952.9   \n",
       "1  2021-12-31 16:01:00  BTC-USDT-220107  47953.6  47958.7  47899.2  47899.2   \n",
       "2  2021-12-31 16:02:00  BTC-USDT-220107  47898.5  47939.0  47896.3  47916.5   \n",
       "3  2021-12-31 16:03:00  BTC-USDT-220107  47915.4  47921.7  47867.0  47902.0   \n",
       "4  2021-12-31 16:04:00  BTC-USDT-220107  47904.6  47915.0  47888.4  47906.2   \n",
       "\n",
       "   volume  \n",
       "0  1420.0  \n",
       "1   386.0  \n",
       "2   157.0  \n",
       "3   118.0  \n",
       "4    97.0  "
      ]
     },
     "metadata": {},
     "output_type": "display_data"
    }
   ],
   "source": [
    "display(df.head())"
   ]
  },
  {
   "cell_type": "code",
   "execution_count": 5,
   "id": "5111b803",
   "metadata": {},
   "outputs": [
    {
     "data": {
      "text/plain": [
       "7424988"
      ]
     },
     "execution_count": 5,
     "metadata": {},
     "output_type": "execute_result"
    }
   ],
   "source": [
    "len(df)"
   ]
  },
  {
   "cell_type": "markdown",
   "id": "00fe08e3",
   "metadata": {},
   "source": [
    "### Data Cleaning: Handling Missing Values\n",
    "\n",
    "Before performing any analysis, it is crucial to ensure the dataset does not contain missing or invalid values that could affect results. In the cell below, we use `df.isna().sum()` to count the number of missing (NaN) values in each column of the DataFrame. This helps identify columns that may require further cleaning or imputation. By understanding the extent and location of missing data, we can make informed decisions on how to handle them, such as dropping rows, filling with default values, or applying more advanced imputation techniques."
   ]
  },
  {
   "cell_type": "code",
   "execution_count": 6,
   "id": "4dfd56e2",
   "metadata": {},
   "outputs": [
    {
     "data": {
      "application/vnd.microsoft.datawrangler.viewer.v0+json": {
       "columns": [
        {
         "name": "index",
         "rawType": "object",
         "type": "string"
        },
        {
         "name": "0",
         "rawType": "int64",
         "type": "integer"
        }
       ],
       "ref": "3a043688-5b6a-48ac-9755-51118eb6ce39",
       "rows": [
        [
         "Unnamed: 0",
         "0"
        ],
        [
         "symbol",
         "2994985"
        ],
        [
         "open",
         "0"
        ],
        [
         "high",
         "0"
        ],
        [
         "low",
         "0"
        ],
        [
         "close",
         "0"
        ],
        [
         "volume",
         "0"
        ]
       ],
       "shape": {
        "columns": 1,
        "rows": 7
       }
      },
      "text/plain": [
       "Unnamed: 0          0\n",
       "symbol        2994985\n",
       "open                0\n",
       "high                0\n",
       "low                 0\n",
       "close               0\n",
       "volume              0\n",
       "dtype: int64"
      ]
     },
     "execution_count": 6,
     "metadata": {},
     "output_type": "execute_result"
    }
   ],
   "source": [
    "df.isna().sum()"
   ]
  },
  {
   "cell_type": "markdown",
   "id": "c78cf12c",
   "metadata": {},
   "source": [
    "### Decision to Drop Rows with Missing Values\n",
    "\n",
    "In this dataset, each row represents a specific contract (symbol) at a given timestamp. When a row contains a missing value, particularly in the `symbol` column, it is nearly impossible to accurately recover or impute the correct contract information due to the large universe of hundreds of unique contracts. As a result, I decided to drop all rows containing NaN values. This approach ensures data integrity and avoids introducing potentially erroneous or misleading information through imputation."
   ]
  },
  {
   "cell_type": "code",
   "execution_count": 7,
   "id": "9eac2b55",
   "metadata": {},
   "outputs": [],
   "source": [
    "df.dropna(inplace=True)"
   ]
  },
  {
   "cell_type": "markdown",
   "id": "290592b6",
   "metadata": {},
   "source": [
    "### Data Quality Check Function\n",
    "\n",
    "The `check(df: pd.DataFrame)` function is designed to perform a series of data quality checks on a financial time series DataFrame. It generates a report containing the following diagnostics:\n",
    "\n",
    "- **NaN Counts:**  \n",
    "    Counts the number of missing (NaN) values in each column and reports columns with any missing data.\n",
    "\n",
    "- **Zero Volume Count:**  \n",
    "    Counts the number of rows where the `volume` column is zero, which may indicate periods of no trading activity or data issues.\n",
    "\n",
    "- **Invalid High Price Count:**  \n",
    "    Checks for rows where the `high` price is not greater than or equal to the `open`, `low`, and `close` prices. Such cases are flagged as invalid.\n",
    "\n",
    "- **Invalid Low Price Count:**  \n",
    "    Checks for rows where the `low` price is not less than or equal to the `high`, `open`, and `close` prices. These are also flagged as invalid.\n",
    "\n",
    "The function returns a dictionary summarizing these issues, helping to quickly identify and address potential data integrity problems before further analysis or modeling."
   ]
  },
  {
   "cell_type": "code",
   "execution_count": 8,
   "id": "6abf6d75",
   "metadata": {},
   "outputs": [
    {
     "name": "stdout",
     "output_type": "stream",
     "text": [
      "{'nan_counts': {}, 'zero_volume_count': 0, 'invalid_high_count': 0, 'invalid_low_count': 0}\n"
     ]
    }
   ],
   "source": [
    "def check(df: pd.DataFrame):\n",
    "    \n",
    "    report = {}\n",
    "\n",
    "    nan_counts = df.isna().sum()\n",
    "    report['nan_counts'] = nan_counts[nan_counts > 0].to_dict()\n",
    "\n",
    "    zero_volume_count = (df['volume'] == 0).sum()\n",
    "    report['zero_volume_count'] = int(zero_volume_count)\n",
    "\n",
    "    high_check = (\n",
    "        (df['high'] >= df['open']) &\n",
    "        (df['high'] >= df['low']) &\n",
    "        (df['high'] >= df['close'])\n",
    "    )\n",
    "    report['invalid_high_count'] = int((~high_check).sum())\n",
    "\n",
    "    low_check = (\n",
    "        (df['low'] <= df['high']) &\n",
    "        (df['low'] <= df['open']) &\n",
    "        (df['low'] <= df['close'])\n",
    "    )\n",
    "    report['invalid_low_count'] = int((~low_check).sum())\n",
    "\n",
    "    return report\n",
    "\n",
    "\n",
    "print(check(df))"
   ]
  },
  {
   "cell_type": "code",
   "execution_count": 9,
   "id": "f236ffde",
   "metadata": {},
   "outputs": [],
   "source": [
    "df.columns = ['timestamp', 'symbol', 'open', 'high', 'low', 'close', 'volume']"
   ]
  },
  {
   "cell_type": "code",
   "execution_count": 10,
   "id": "2fbe156a",
   "metadata": {},
   "outputs": [
    {
     "data": {
      "application/vnd.microsoft.datawrangler.viewer.v0+json": {
       "columns": [
        {
         "name": "timestamp",
         "rawType": "object",
         "type": "string"
        },
        {
         "name": "('close', 'BTC-USDT-220107')",
         "rawType": "float64",
         "type": "float"
        },
        {
         "name": "('close', 'BTC-USDT-220114')",
         "rawType": "float64",
         "type": "float"
        },
        {
         "name": "('close', 'BTC-USDT-220121')",
         "rawType": "float64",
         "type": "float"
        },
        {
         "name": "('close', 'BTC-USDT-220128')",
         "rawType": "float64",
         "type": "float"
        },
        {
         "name": "('close', 'BTC-USDT-220204')",
         "rawType": "float64",
         "type": "float"
        },
        {
         "name": "('close', 'BTC-USDT-220211')",
         "rawType": "float64",
         "type": "float"
        },
        {
         "name": "('close', 'BTC-USDT-220218')",
         "rawType": "float64",
         "type": "float"
        },
        {
         "name": "('close', 'BTC-USDT-220225')",
         "rawType": "float64",
         "type": "float"
        },
        {
         "name": "('close', 'BTC-USDT-220304')",
         "rawType": "float64",
         "type": "float"
        },
        {
         "name": "('close', 'BTC-USDT-220311')",
         "rawType": "float64",
         "type": "float"
        },
        {
         "name": "('close', 'BTC-USDT-220318')",
         "rawType": "float64",
         "type": "float"
        },
        {
         "name": "('close', 'BTC-USDT-220325')",
         "rawType": "float64",
         "type": "float"
        },
        {
         "name": "('close', 'BTC-USDT-220401')",
         "rawType": "float64",
         "type": "float"
        },
        {
         "name": "('close', 'BTC-USDT-220408')",
         "rawType": "float64",
         "type": "float"
        },
        {
         "name": "('close', 'BTC-USDT-220415')",
         "rawType": "float64",
         "type": "float"
        },
        {
         "name": "('close', 'BTC-USDT-220422')",
         "rawType": "float64",
         "type": "float"
        },
        {
         "name": "('close', 'BTC-USDT-220429')",
         "rawType": "float64",
         "type": "float"
        },
        {
         "name": "('close', 'BTC-USDT-220506')",
         "rawType": "float64",
         "type": "float"
        },
        {
         "name": "('close', 'BTC-USDT-220513')",
         "rawType": "float64",
         "type": "float"
        },
        {
         "name": "('close', 'BTC-USDT-220520')",
         "rawType": "float64",
         "type": "float"
        },
        {
         "name": "('close', 'BTC-USDT-220527')",
         "rawType": "float64",
         "type": "float"
        },
        {
         "name": "('close', 'BTC-USDT-220603')",
         "rawType": "float64",
         "type": "float"
        },
        {
         "name": "('close', 'BTC-USDT-220610')",
         "rawType": "float64",
         "type": "float"
        },
        {
         "name": "('close', 'BTC-USDT-220617')",
         "rawType": "float64",
         "type": "float"
        },
        {
         "name": "('close', 'BTC-USDT-220624')",
         "rawType": "float64",
         "type": "float"
        },
        {
         "name": "('close', 'BTC-USDT-220701')",
         "rawType": "float64",
         "type": "float"
        },
        {
         "name": "('close', 'BTC-USDT-220708')",
         "rawType": "float64",
         "type": "float"
        },
        {
         "name": "('close', 'BTC-USDT-220715')",
         "rawType": "float64",
         "type": "float"
        },
        {
         "name": "('close', 'BTC-USDT-220722')",
         "rawType": "float64",
         "type": "float"
        },
        {
         "name": "('close', 'BTC-USDT-220729')",
         "rawType": "float64",
         "type": "float"
        },
        {
         "name": "('close', 'BTC-USDT-220805')",
         "rawType": "float64",
         "type": "float"
        },
        {
         "name": "('close', 'BTC-USDT-220812')",
         "rawType": "float64",
         "type": "float"
        },
        {
         "name": "('close', 'BTC-USDT-220819')",
         "rawType": "float64",
         "type": "float"
        },
        {
         "name": "('close', 'BTC-USDT-220826')",
         "rawType": "float64",
         "type": "float"
        },
        {
         "name": "('close', 'BTC-USDT-220902')",
         "rawType": "float64",
         "type": "float"
        },
        {
         "name": "('close', 'BTC-USDT-220909')",
         "rawType": "float64",
         "type": "float"
        },
        {
         "name": "('close', 'BTC-USDT-220916')",
         "rawType": "float64",
         "type": "float"
        },
        {
         "name": "('close', 'BTC-USDT-220923')",
         "rawType": "float64",
         "type": "float"
        },
        {
         "name": "('close', 'BTC-USDT-220930')",
         "rawType": "float64",
         "type": "float"
        },
        {
         "name": "('close', 'BTC-USDT-221007')",
         "rawType": "float64",
         "type": "float"
        },
        {
         "name": "('close', 'BTC-USDT-221014')",
         "rawType": "float64",
         "type": "float"
        },
        {
         "name": "('close', 'BTC-USDT-221021')",
         "rawType": "float64",
         "type": "float"
        },
        {
         "name": "('close', 'BTC-USDT-221028')",
         "rawType": "float64",
         "type": "float"
        },
        {
         "name": "('close', 'BTC-USDT-221104')",
         "rawType": "float64",
         "type": "float"
        },
        {
         "name": "('close', 'BTC-USDT-221111')",
         "rawType": "float64",
         "type": "float"
        },
        {
         "name": "('close', 'BTC-USDT-221118')",
         "rawType": "float64",
         "type": "float"
        },
        {
         "name": "('close', 'BTC-USDT-221125')",
         "rawType": "float64",
         "type": "float"
        },
        {
         "name": "('close', 'BTC-USDT-221202')",
         "rawType": "float64",
         "type": "float"
        },
        {
         "name": "('close', 'BTC-USDT-221209')",
         "rawType": "float64",
         "type": "float"
        },
        {
         "name": "('close', 'BTC-USDT-221216')",
         "rawType": "float64",
         "type": "float"
        },
        {
         "name": "('close', 'BTC-USDT-221223')",
         "rawType": "float64",
         "type": "float"
        },
        {
         "name": "('close', 'BTC-USDT-221230')",
         "rawType": "float64",
         "type": "float"
        },
        {
         "name": "('close', 'BTC-USDT-230106')",
         "rawType": "float64",
         "type": "float"
        },
        {
         "name": "('close', 'BTC-USDT-230113')",
         "rawType": "float64",
         "type": "float"
        },
        {
         "name": "('close', 'BTC-USDT-230120')",
         "rawType": "float64",
         "type": "float"
        },
        {
         "name": "('close', 'BTC-USDT-230127')",
         "rawType": "float64",
         "type": "float"
        },
        {
         "name": "('close', 'BTC-USDT-230203')",
         "rawType": "float64",
         "type": "float"
        },
        {
         "name": "('close', 'BTC-USDT-230210')",
         "rawType": "float64",
         "type": "float"
        },
        {
         "name": "('close', 'BTC-USDT-230217')",
         "rawType": "float64",
         "type": "float"
        },
        {
         "name": "('close', 'BTC-USDT-230224')",
         "rawType": "float64",
         "type": "float"
        },
        {
         "name": "('close', 'BTC-USDT-230303')",
         "rawType": "float64",
         "type": "float"
        },
        {
         "name": "('close', 'BTC-USDT-230310')",
         "rawType": "float64",
         "type": "float"
        },
        {
         "name": "('close', 'BTC-USDT-230317')",
         "rawType": "float64",
         "type": "float"
        },
        {
         "name": "('close', 'BTC-USDT-230324')",
         "rawType": "float64",
         "type": "float"
        },
        {
         "name": "('close', 'BTC-USDT-230331')",
         "rawType": "float64",
         "type": "float"
        },
        {
         "name": "('close', 'BTC-USDT-230407')",
         "rawType": "float64",
         "type": "float"
        },
        {
         "name": "('close', 'BTC-USDT-230414')",
         "rawType": "float64",
         "type": "float"
        },
        {
         "name": "('close', 'BTC-USDT-230421')",
         "rawType": "float64",
         "type": "float"
        },
        {
         "name": "('close', 'BTC-USDT-230428')",
         "rawType": "float64",
         "type": "float"
        },
        {
         "name": "('close', 'BTC-USDT-230505')",
         "rawType": "float64",
         "type": "float"
        },
        {
         "name": "('close', 'BTC-USDT-230512')",
         "rawType": "float64",
         "type": "float"
        },
        {
         "name": "('close', 'BTC-USDT-230519')",
         "rawType": "float64",
         "type": "float"
        },
        {
         "name": "('close', 'BTC-USDT-230526')",
         "rawType": "float64",
         "type": "float"
        },
        {
         "name": "('close', 'BTC-USDT-230602')",
         "rawType": "float64",
         "type": "float"
        },
        {
         "name": "('close', 'BTC-USDT-230609')",
         "rawType": "float64",
         "type": "float"
        },
        {
         "name": "('close', 'BTC-USDT-230616')",
         "rawType": "float64",
         "type": "float"
        },
        {
         "name": "('close', 'BTC-USDT-230623')",
         "rawType": "float64",
         "type": "float"
        },
        {
         "name": "('close', 'BTC-USDT-230630')",
         "rawType": "float64",
         "type": "float"
        },
        {
         "name": "('close', 'BTC-USDT-230707')",
         "rawType": "float64",
         "type": "float"
        },
        {
         "name": "('close', 'BTC-USDT-230714')",
         "rawType": "float64",
         "type": "float"
        },
        {
         "name": "('close', 'BTC-USDT-230721')",
         "rawType": "float64",
         "type": "float"
        },
        {
         "name": "('close', 'BTC-USDT-230728')",
         "rawType": "float64",
         "type": "float"
        },
        {
         "name": "('close', 'BTC-USDT-230804')",
         "rawType": "float64",
         "type": "float"
        },
        {
         "name": "('close', 'BTC-USDT-230811')",
         "rawType": "float64",
         "type": "float"
        },
        {
         "name": "('close', 'BTC-USDT-230818')",
         "rawType": "float64",
         "type": "float"
        },
        {
         "name": "('close', 'BTC-USDT-230825')",
         "rawType": "float64",
         "type": "float"
        },
        {
         "name": "('close', 'BTC-USDT-230901')",
         "rawType": "float64",
         "type": "float"
        },
        {
         "name": "('close', 'BTC-USDT-230908')",
         "rawType": "float64",
         "type": "float"
        },
        {
         "name": "('close', 'BTC-USDT-230915')",
         "rawType": "float64",
         "type": "float"
        },
        {
         "name": "('close', 'BTC-USDT-230922')",
         "rawType": "float64",
         "type": "float"
        },
        {
         "name": "('close', 'BTC-USDT-230929')",
         "rawType": "float64",
         "type": "float"
        },
        {
         "name": "('close', 'BTC-USDT-231006')",
         "rawType": "float64",
         "type": "float"
        },
        {
         "name": "('close', 'BTC-USDT-231013')",
         "rawType": "float64",
         "type": "float"
        },
        {
         "name": "('close', 'BTC-USDT-231020')",
         "rawType": "float64",
         "type": "float"
        },
        {
         "name": "('close', 'BTC-USDT-231027')",
         "rawType": "float64",
         "type": "float"
        },
        {
         "name": "('close', 'BTC-USDT-231103')",
         "rawType": "float64",
         "type": "float"
        },
        {
         "name": "('close', 'BTC-USDT-231110')",
         "rawType": "float64",
         "type": "float"
        },
        {
         "name": "('close', 'BTC-USDT-231117')",
         "rawType": "float64",
         "type": "float"
        },
        {
         "name": "('close', 'BTC-USDT-231124')",
         "rawType": "float64",
         "type": "float"
        },
        {
         "name": "('close', 'BTC-USDT-231201')",
         "rawType": "float64",
         "type": "float"
        },
        {
         "name": "('close', 'BTC-USDT-231208')",
         "rawType": "float64",
         "type": "float"
        },
        {
         "name": "('close', 'BTC-USDT-231215')",
         "rawType": "float64",
         "type": "float"
        },
        {
         "name": "('close', 'BTC-USDT-231222')",
         "rawType": "float64",
         "type": "float"
        },
        {
         "name": "('close', 'BTC-USDT-231229')",
         "rawType": "float64",
         "type": "float"
        },
        {
         "name": "('close', 'BTC-USDT-240105')",
         "rawType": "float64",
         "type": "float"
        },
        {
         "name": "('close', 'BTC-USDT-240112')",
         "rawType": "float64",
         "type": "float"
        },
        {
         "name": "('close', 'BTC-USDT-240119')",
         "rawType": "float64",
         "type": "float"
        },
        {
         "name": "('close', 'BTC-USDT-240126')",
         "rawType": "float64",
         "type": "float"
        },
        {
         "name": "('close', 'BTC-USDT-240202')",
         "rawType": "float64",
         "type": "float"
        },
        {
         "name": "('close', 'BTC-USDT-240209')",
         "rawType": "float64",
         "type": "float"
        },
        {
         "name": "('close', 'BTC-USDT-240216')",
         "rawType": "float64",
         "type": "float"
        },
        {
         "name": "('close', 'BTC-USDT-240223')",
         "rawType": "float64",
         "type": "float"
        },
        {
         "name": "('close', 'BTC-USDT-240301')",
         "rawType": "float64",
         "type": "float"
        },
        {
         "name": "('close', 'BTC-USDT-240308')",
         "rawType": "float64",
         "type": "float"
        },
        {
         "name": "('close', 'BTC-USDT-240315')",
         "rawType": "float64",
         "type": "float"
        },
        {
         "name": "('close', 'BTC-USDT-240322')",
         "rawType": "float64",
         "type": "float"
        },
        {
         "name": "('close', 'BTC-USDT-240329')",
         "rawType": "float64",
         "type": "float"
        },
        {
         "name": "('close', 'BTC-USDT-240405')",
         "rawType": "float64",
         "type": "float"
        },
        {
         "name": "('close', 'BTC-USDT-240412')",
         "rawType": "float64",
         "type": "float"
        },
        {
         "name": "('close', 'BTC-USDT-240419')",
         "rawType": "float64",
         "type": "float"
        },
        {
         "name": "('close', 'BTC-USDT-240426')",
         "rawType": "float64",
         "type": "float"
        },
        {
         "name": "('close', 'BTC-USDT-240503')",
         "rawType": "float64",
         "type": "float"
        },
        {
         "name": "('close', 'BTC-USDT-240510')",
         "rawType": "float64",
         "type": "float"
        },
        {
         "name": "('close', 'BTC-USDT-240517')",
         "rawType": "float64",
         "type": "float"
        },
        {
         "name": "('close', 'BTC-USDT-240524')",
         "rawType": "float64",
         "type": "float"
        },
        {
         "name": "('close', 'BTC-USDT-240531')",
         "rawType": "float64",
         "type": "float"
        },
        {
         "name": "('close', 'BTC-USDT-240607')",
         "rawType": "float64",
         "type": "float"
        },
        {
         "name": "('close', 'BTC-USDT-240614')",
         "rawType": "float64",
         "type": "float"
        },
        {
         "name": "('close', 'BTC-USDT-240621')",
         "rawType": "float64",
         "type": "float"
        },
        {
         "name": "('close', 'BTC-USDT-240628')",
         "rawType": "float64",
         "type": "float"
        },
        {
         "name": "('close', 'BTC-USDT-240705')",
         "rawType": "float64",
         "type": "float"
        },
        {
         "name": "('close', 'BTC-USDT-240712')",
         "rawType": "float64",
         "type": "float"
        },
        {
         "name": "('close', 'BTC-USDT-240719')",
         "rawType": "float64",
         "type": "float"
        },
        {
         "name": "('close', 'BTC-USDT-240726')",
         "rawType": "float64",
         "type": "float"
        },
        {
         "name": "('close', 'BTC-USDT-240802')",
         "rawType": "float64",
         "type": "float"
        },
        {
         "name": "('close', 'BTC-USDT-240809')",
         "rawType": "float64",
         "type": "float"
        },
        {
         "name": "('close', 'BTC-USDT-240816')",
         "rawType": "float64",
         "type": "float"
        },
        {
         "name": "('close', 'BTC-USDT-240823')",
         "rawType": "float64",
         "type": "float"
        },
        {
         "name": "('close', 'BTC-USDT-240830')",
         "rawType": "float64",
         "type": "float"
        },
        {
         "name": "('close', 'BTC-USDT-240906')",
         "rawType": "float64",
         "type": "float"
        },
        {
         "name": "('close', 'BTC-USDT-240913')",
         "rawType": "float64",
         "type": "float"
        },
        {
         "name": "('close', 'BTC-USDT-240920')",
         "rawType": "float64",
         "type": "float"
        },
        {
         "name": "('close', 'BTC-USDT-240927')",
         "rawType": "float64",
         "type": "float"
        },
        {
         "name": "('close', 'BTC-USDT-241004')",
         "rawType": "float64",
         "type": "float"
        },
        {
         "name": "('close', 'BTC-USDT-241011')",
         "rawType": "float64",
         "type": "float"
        },
        {
         "name": "('close', 'BTC-USDT-241018')",
         "rawType": "float64",
         "type": "float"
        },
        {
         "name": "('close', 'BTC-USDT-241025')",
         "rawType": "float64",
         "type": "float"
        },
        {
         "name": "('close', 'BTC-USDT-241101')",
         "rawType": "float64",
         "type": "float"
        },
        {
         "name": "('close', 'BTC-USDT-241108')",
         "rawType": "float64",
         "type": "float"
        },
        {
         "name": "('close', 'BTC-USDT-241115')",
         "rawType": "float64",
         "type": "float"
        },
        {
         "name": "('close', 'BTC-USDT-241122')",
         "rawType": "float64",
         "type": "float"
        },
        {
         "name": "('close', 'BTC-USDT-241129')",
         "rawType": "float64",
         "type": "float"
        },
        {
         "name": "('close', 'BTC-USDT-241206')",
         "rawType": "float64",
         "type": "float"
        },
        {
         "name": "('close', 'BTC-USDT-241213')",
         "rawType": "float64",
         "type": "float"
        },
        {
         "name": "('close', 'BTC-USDT-241220')",
         "rawType": "float64",
         "type": "float"
        },
        {
         "name": "('close', 'BTC-USDT-241227')",
         "rawType": "float64",
         "type": "float"
        },
        {
         "name": "('close', 'BTC-USDT-250103')",
         "rawType": "float64",
         "type": "float"
        },
        {
         "name": "('close', 'BTC-USDT-250110')",
         "rawType": "float64",
         "type": "float"
        },
        {
         "name": "('close', 'BTC-USDT-250131')",
         "rawType": "float64",
         "type": "float"
        },
        {
         "name": "('close', 'BTC-USDT-250228')",
         "rawType": "float64",
         "type": "float"
        },
        {
         "name": "('close', 'BTC-USDT-250328')",
         "rawType": "float64",
         "type": "float"
        },
        {
         "name": "('close', 'BTC-USDT-250627')",
         "rawType": "float64",
         "type": "float"
        },
        {
         "name": "('volume', 'BTC-USDT-220107')",
         "rawType": "float64",
         "type": "float"
        },
        {
         "name": "('volume', 'BTC-USDT-220114')",
         "rawType": "float64",
         "type": "float"
        },
        {
         "name": "('volume', 'BTC-USDT-220121')",
         "rawType": "float64",
         "type": "float"
        },
        {
         "name": "('volume', 'BTC-USDT-220128')",
         "rawType": "float64",
         "type": "float"
        },
        {
         "name": "('volume', 'BTC-USDT-220204')",
         "rawType": "float64",
         "type": "float"
        },
        {
         "name": "('volume', 'BTC-USDT-220211')",
         "rawType": "float64",
         "type": "float"
        },
        {
         "name": "('volume', 'BTC-USDT-220218')",
         "rawType": "float64",
         "type": "float"
        },
        {
         "name": "('volume', 'BTC-USDT-220225')",
         "rawType": "float64",
         "type": "float"
        },
        {
         "name": "('volume', 'BTC-USDT-220304')",
         "rawType": "float64",
         "type": "float"
        },
        {
         "name": "('volume', 'BTC-USDT-220311')",
         "rawType": "float64",
         "type": "float"
        },
        {
         "name": "('volume', 'BTC-USDT-220318')",
         "rawType": "float64",
         "type": "float"
        },
        {
         "name": "('volume', 'BTC-USDT-220325')",
         "rawType": "float64",
         "type": "float"
        },
        {
         "name": "('volume', 'BTC-USDT-220401')",
         "rawType": "float64",
         "type": "float"
        },
        {
         "name": "('volume', 'BTC-USDT-220408')",
         "rawType": "float64",
         "type": "float"
        },
        {
         "name": "('volume', 'BTC-USDT-220415')",
         "rawType": "float64",
         "type": "float"
        },
        {
         "name": "('volume', 'BTC-USDT-220422')",
         "rawType": "float64",
         "type": "float"
        },
        {
         "name": "('volume', 'BTC-USDT-220429')",
         "rawType": "float64",
         "type": "float"
        },
        {
         "name": "('volume', 'BTC-USDT-220506')",
         "rawType": "float64",
         "type": "float"
        },
        {
         "name": "('volume', 'BTC-USDT-220513')",
         "rawType": "float64",
         "type": "float"
        },
        {
         "name": "('volume', 'BTC-USDT-220520')",
         "rawType": "float64",
         "type": "float"
        },
        {
         "name": "('volume', 'BTC-USDT-220527')",
         "rawType": "float64",
         "type": "float"
        },
        {
         "name": "('volume', 'BTC-USDT-220603')",
         "rawType": "float64",
         "type": "float"
        },
        {
         "name": "('volume', 'BTC-USDT-220610')",
         "rawType": "float64",
         "type": "float"
        },
        {
         "name": "('volume', 'BTC-USDT-220617')",
         "rawType": "float64",
         "type": "float"
        },
        {
         "name": "('volume', 'BTC-USDT-220624')",
         "rawType": "float64",
         "type": "float"
        },
        {
         "name": "('volume', 'BTC-USDT-220701')",
         "rawType": "float64",
         "type": "float"
        },
        {
         "name": "('volume', 'BTC-USDT-220708')",
         "rawType": "float64",
         "type": "float"
        },
        {
         "name": "('volume', 'BTC-USDT-220715')",
         "rawType": "float64",
         "type": "float"
        },
        {
         "name": "('volume', 'BTC-USDT-220722')",
         "rawType": "float64",
         "type": "float"
        },
        {
         "name": "('volume', 'BTC-USDT-220729')",
         "rawType": "float64",
         "type": "float"
        },
        {
         "name": "('volume', 'BTC-USDT-220805')",
         "rawType": "float64",
         "type": "float"
        },
        {
         "name": "('volume', 'BTC-USDT-220812')",
         "rawType": "float64",
         "type": "float"
        },
        {
         "name": "('volume', 'BTC-USDT-220819')",
         "rawType": "float64",
         "type": "float"
        },
        {
         "name": "('volume', 'BTC-USDT-220826')",
         "rawType": "float64",
         "type": "float"
        },
        {
         "name": "('volume', 'BTC-USDT-220902')",
         "rawType": "float64",
         "type": "float"
        },
        {
         "name": "('volume', 'BTC-USDT-220909')",
         "rawType": "float64",
         "type": "float"
        },
        {
         "name": "('volume', 'BTC-USDT-220916')",
         "rawType": "float64",
         "type": "float"
        },
        {
         "name": "('volume', 'BTC-USDT-220923')",
         "rawType": "float64",
         "type": "float"
        },
        {
         "name": "('volume', 'BTC-USDT-220930')",
         "rawType": "float64",
         "type": "float"
        },
        {
         "name": "('volume', 'BTC-USDT-221007')",
         "rawType": "float64",
         "type": "float"
        },
        {
         "name": "('volume', 'BTC-USDT-221014')",
         "rawType": "float64",
         "type": "float"
        },
        {
         "name": "('volume', 'BTC-USDT-221021')",
         "rawType": "float64",
         "type": "float"
        },
        {
         "name": "('volume', 'BTC-USDT-221028')",
         "rawType": "float64",
         "type": "float"
        },
        {
         "name": "('volume', 'BTC-USDT-221104')",
         "rawType": "float64",
         "type": "float"
        },
        {
         "name": "('volume', 'BTC-USDT-221111')",
         "rawType": "float64",
         "type": "float"
        },
        {
         "name": "('volume', 'BTC-USDT-221118')",
         "rawType": "float64",
         "type": "float"
        },
        {
         "name": "('volume', 'BTC-USDT-221125')",
         "rawType": "float64",
         "type": "float"
        },
        {
         "name": "('volume', 'BTC-USDT-221202')",
         "rawType": "float64",
         "type": "float"
        },
        {
         "name": "('volume', 'BTC-USDT-221209')",
         "rawType": "float64",
         "type": "float"
        },
        {
         "name": "('volume', 'BTC-USDT-221216')",
         "rawType": "float64",
         "type": "float"
        },
        {
         "name": "('volume', 'BTC-USDT-221223')",
         "rawType": "float64",
         "type": "float"
        },
        {
         "name": "('volume', 'BTC-USDT-221230')",
         "rawType": "float64",
         "type": "float"
        },
        {
         "name": "('volume', 'BTC-USDT-230106')",
         "rawType": "float64",
         "type": "float"
        },
        {
         "name": "('volume', 'BTC-USDT-230113')",
         "rawType": "float64",
         "type": "float"
        },
        {
         "name": "('volume', 'BTC-USDT-230120')",
         "rawType": "float64",
         "type": "float"
        },
        {
         "name": "('volume', 'BTC-USDT-230127')",
         "rawType": "float64",
         "type": "float"
        },
        {
         "name": "('volume', 'BTC-USDT-230203')",
         "rawType": "float64",
         "type": "float"
        },
        {
         "name": "('volume', 'BTC-USDT-230210')",
         "rawType": "float64",
         "type": "float"
        },
        {
         "name": "('volume', 'BTC-USDT-230217')",
         "rawType": "float64",
         "type": "float"
        },
        {
         "name": "('volume', 'BTC-USDT-230224')",
         "rawType": "float64",
         "type": "float"
        },
        {
         "name": "('volume', 'BTC-USDT-230303')",
         "rawType": "float64",
         "type": "float"
        },
        {
         "name": "('volume', 'BTC-USDT-230310')",
         "rawType": "float64",
         "type": "float"
        },
        {
         "name": "('volume', 'BTC-USDT-230317')",
         "rawType": "float64",
         "type": "float"
        },
        {
         "name": "('volume', 'BTC-USDT-230324')",
         "rawType": "float64",
         "type": "float"
        },
        {
         "name": "('volume', 'BTC-USDT-230331')",
         "rawType": "float64",
         "type": "float"
        },
        {
         "name": "('volume', 'BTC-USDT-230407')",
         "rawType": "float64",
         "type": "float"
        },
        {
         "name": "('volume', 'BTC-USDT-230414')",
         "rawType": "float64",
         "type": "float"
        },
        {
         "name": "('volume', 'BTC-USDT-230421')",
         "rawType": "float64",
         "type": "float"
        },
        {
         "name": "('volume', 'BTC-USDT-230428')",
         "rawType": "float64",
         "type": "float"
        },
        {
         "name": "('volume', 'BTC-USDT-230505')",
         "rawType": "float64",
         "type": "float"
        },
        {
         "name": "('volume', 'BTC-USDT-230512')",
         "rawType": "float64",
         "type": "float"
        },
        {
         "name": "('volume', 'BTC-USDT-230519')",
         "rawType": "float64",
         "type": "float"
        },
        {
         "name": "('volume', 'BTC-USDT-230526')",
         "rawType": "float64",
         "type": "float"
        },
        {
         "name": "('volume', 'BTC-USDT-230602')",
         "rawType": "float64",
         "type": "float"
        },
        {
         "name": "('volume', 'BTC-USDT-230609')",
         "rawType": "float64",
         "type": "float"
        },
        {
         "name": "('volume', 'BTC-USDT-230616')",
         "rawType": "float64",
         "type": "float"
        },
        {
         "name": "('volume', 'BTC-USDT-230623')",
         "rawType": "float64",
         "type": "float"
        },
        {
         "name": "('volume', 'BTC-USDT-230630')",
         "rawType": "float64",
         "type": "float"
        },
        {
         "name": "('volume', 'BTC-USDT-230707')",
         "rawType": "float64",
         "type": "float"
        },
        {
         "name": "('volume', 'BTC-USDT-230714')",
         "rawType": "float64",
         "type": "float"
        },
        {
         "name": "('volume', 'BTC-USDT-230721')",
         "rawType": "float64",
         "type": "float"
        },
        {
         "name": "('volume', 'BTC-USDT-230728')",
         "rawType": "float64",
         "type": "float"
        },
        {
         "name": "('volume', 'BTC-USDT-230804')",
         "rawType": "float64",
         "type": "float"
        },
        {
         "name": "('volume', 'BTC-USDT-230811')",
         "rawType": "float64",
         "type": "float"
        },
        {
         "name": "('volume', 'BTC-USDT-230818')",
         "rawType": "float64",
         "type": "float"
        },
        {
         "name": "('volume', 'BTC-USDT-230825')",
         "rawType": "float64",
         "type": "float"
        },
        {
         "name": "('volume', 'BTC-USDT-230901')",
         "rawType": "float64",
         "type": "float"
        },
        {
         "name": "('volume', 'BTC-USDT-230908')",
         "rawType": "float64",
         "type": "float"
        },
        {
         "name": "('volume', 'BTC-USDT-230915')",
         "rawType": "float64",
         "type": "float"
        },
        {
         "name": "('volume', 'BTC-USDT-230922')",
         "rawType": "float64",
         "type": "float"
        },
        {
         "name": "('volume', 'BTC-USDT-230929')",
         "rawType": "float64",
         "type": "float"
        },
        {
         "name": "('volume', 'BTC-USDT-231006')",
         "rawType": "float64",
         "type": "float"
        },
        {
         "name": "('volume', 'BTC-USDT-231013')",
         "rawType": "float64",
         "type": "float"
        },
        {
         "name": "('volume', 'BTC-USDT-231020')",
         "rawType": "float64",
         "type": "float"
        },
        {
         "name": "('volume', 'BTC-USDT-231027')",
         "rawType": "float64",
         "type": "float"
        },
        {
         "name": "('volume', 'BTC-USDT-231103')",
         "rawType": "float64",
         "type": "float"
        },
        {
         "name": "('volume', 'BTC-USDT-231110')",
         "rawType": "float64",
         "type": "float"
        },
        {
         "name": "('volume', 'BTC-USDT-231117')",
         "rawType": "float64",
         "type": "float"
        },
        {
         "name": "('volume', 'BTC-USDT-231124')",
         "rawType": "float64",
         "type": "float"
        },
        {
         "name": "('volume', 'BTC-USDT-231201')",
         "rawType": "float64",
         "type": "float"
        },
        {
         "name": "('volume', 'BTC-USDT-231208')",
         "rawType": "float64",
         "type": "float"
        },
        {
         "name": "('volume', 'BTC-USDT-231215')",
         "rawType": "float64",
         "type": "float"
        },
        {
         "name": "('volume', 'BTC-USDT-231222')",
         "rawType": "float64",
         "type": "float"
        },
        {
         "name": "('volume', 'BTC-USDT-231229')",
         "rawType": "float64",
         "type": "float"
        },
        {
         "name": "('volume', 'BTC-USDT-240105')",
         "rawType": "float64",
         "type": "float"
        },
        {
         "name": "('volume', 'BTC-USDT-240112')",
         "rawType": "float64",
         "type": "float"
        },
        {
         "name": "('volume', 'BTC-USDT-240119')",
         "rawType": "float64",
         "type": "float"
        },
        {
         "name": "('volume', 'BTC-USDT-240126')",
         "rawType": "float64",
         "type": "float"
        },
        {
         "name": "('volume', 'BTC-USDT-240202')",
         "rawType": "float64",
         "type": "float"
        },
        {
         "name": "('volume', 'BTC-USDT-240209')",
         "rawType": "float64",
         "type": "float"
        },
        {
         "name": "('volume', 'BTC-USDT-240216')",
         "rawType": "float64",
         "type": "float"
        },
        {
         "name": "('volume', 'BTC-USDT-240223')",
         "rawType": "float64",
         "type": "float"
        },
        {
         "name": "('volume', 'BTC-USDT-240301')",
         "rawType": "float64",
         "type": "float"
        },
        {
         "name": "('volume', 'BTC-USDT-240308')",
         "rawType": "float64",
         "type": "float"
        },
        {
         "name": "('volume', 'BTC-USDT-240315')",
         "rawType": "float64",
         "type": "float"
        },
        {
         "name": "('volume', 'BTC-USDT-240322')",
         "rawType": "float64",
         "type": "float"
        },
        {
         "name": "('volume', 'BTC-USDT-240329')",
         "rawType": "float64",
         "type": "float"
        },
        {
         "name": "('volume', 'BTC-USDT-240405')",
         "rawType": "float64",
         "type": "float"
        },
        {
         "name": "('volume', 'BTC-USDT-240412')",
         "rawType": "float64",
         "type": "float"
        },
        {
         "name": "('volume', 'BTC-USDT-240419')",
         "rawType": "float64",
         "type": "float"
        },
        {
         "name": "('volume', 'BTC-USDT-240426')",
         "rawType": "float64",
         "type": "float"
        },
        {
         "name": "('volume', 'BTC-USDT-240503')",
         "rawType": "float64",
         "type": "float"
        },
        {
         "name": "('volume', 'BTC-USDT-240510')",
         "rawType": "float64",
         "type": "float"
        },
        {
         "name": "('volume', 'BTC-USDT-240517')",
         "rawType": "float64",
         "type": "float"
        },
        {
         "name": "('volume', 'BTC-USDT-240524')",
         "rawType": "float64",
         "type": "float"
        },
        {
         "name": "('volume', 'BTC-USDT-240531')",
         "rawType": "float64",
         "type": "float"
        },
        {
         "name": "('volume', 'BTC-USDT-240607')",
         "rawType": "float64",
         "type": "float"
        },
        {
         "name": "('volume', 'BTC-USDT-240614')",
         "rawType": "float64",
         "type": "float"
        },
        {
         "name": "('volume', 'BTC-USDT-240621')",
         "rawType": "float64",
         "type": "float"
        },
        {
         "name": "('volume', 'BTC-USDT-240628')",
         "rawType": "float64",
         "type": "float"
        },
        {
         "name": "('volume', 'BTC-USDT-240705')",
         "rawType": "float64",
         "type": "float"
        },
        {
         "name": "('volume', 'BTC-USDT-240712')",
         "rawType": "float64",
         "type": "float"
        },
        {
         "name": "('volume', 'BTC-USDT-240719')",
         "rawType": "float64",
         "type": "float"
        },
        {
         "name": "('volume', 'BTC-USDT-240726')",
         "rawType": "float64",
         "type": "float"
        },
        {
         "name": "('volume', 'BTC-USDT-240802')",
         "rawType": "float64",
         "type": "float"
        },
        {
         "name": "('volume', 'BTC-USDT-240809')",
         "rawType": "float64",
         "type": "float"
        },
        {
         "name": "('volume', 'BTC-USDT-240816')",
         "rawType": "float64",
         "type": "float"
        },
        {
         "name": "('volume', 'BTC-USDT-240823')",
         "rawType": "float64",
         "type": "float"
        },
        {
         "name": "('volume', 'BTC-USDT-240830')",
         "rawType": "float64",
         "type": "float"
        },
        {
         "name": "('volume', 'BTC-USDT-240906')",
         "rawType": "float64",
         "type": "float"
        },
        {
         "name": "('volume', 'BTC-USDT-240913')",
         "rawType": "float64",
         "type": "float"
        },
        {
         "name": "('volume', 'BTC-USDT-240920')",
         "rawType": "float64",
         "type": "float"
        },
        {
         "name": "('volume', 'BTC-USDT-240927')",
         "rawType": "float64",
         "type": "float"
        },
        {
         "name": "('volume', 'BTC-USDT-241004')",
         "rawType": "float64",
         "type": "float"
        },
        {
         "name": "('volume', 'BTC-USDT-241011')",
         "rawType": "float64",
         "type": "float"
        },
        {
         "name": "('volume', 'BTC-USDT-241018')",
         "rawType": "float64",
         "type": "float"
        },
        {
         "name": "('volume', 'BTC-USDT-241025')",
         "rawType": "float64",
         "type": "float"
        },
        {
         "name": "('volume', 'BTC-USDT-241101')",
         "rawType": "float64",
         "type": "float"
        },
        {
         "name": "('volume', 'BTC-USDT-241108')",
         "rawType": "float64",
         "type": "float"
        },
        {
         "name": "('volume', 'BTC-USDT-241115')",
         "rawType": "float64",
         "type": "float"
        },
        {
         "name": "('volume', 'BTC-USDT-241122')",
         "rawType": "float64",
         "type": "float"
        },
        {
         "name": "('volume', 'BTC-USDT-241129')",
         "rawType": "float64",
         "type": "float"
        },
        {
         "name": "('volume', 'BTC-USDT-241206')",
         "rawType": "float64",
         "type": "float"
        },
        {
         "name": "('volume', 'BTC-USDT-241213')",
         "rawType": "float64",
         "type": "float"
        },
        {
         "name": "('volume', 'BTC-USDT-241220')",
         "rawType": "float64",
         "type": "float"
        },
        {
         "name": "('volume', 'BTC-USDT-241227')",
         "rawType": "float64",
         "type": "float"
        },
        {
         "name": "('volume', 'BTC-USDT-250103')",
         "rawType": "float64",
         "type": "float"
        },
        {
         "name": "('volume', 'BTC-USDT-250110')",
         "rawType": "float64",
         "type": "float"
        },
        {
         "name": "('volume', 'BTC-USDT-250131')",
         "rawType": "float64",
         "type": "float"
        },
        {
         "name": "('volume', 'BTC-USDT-250228')",
         "rawType": "float64",
         "type": "float"
        },
        {
         "name": "('volume', 'BTC-USDT-250328')",
         "rawType": "float64",
         "type": "float"
        },
        {
         "name": "('volume', 'BTC-USDT-250627')",
         "rawType": "float64",
         "type": "float"
        }
       ],
       "ref": "6da1a742-6984-4682-bbd9-7ffd4cae7d20",
       "rows": [
        [
         "2021-12-31 16:00:00",
         "47952.9",
         "48006.6",
         null,
         null,
         null,
         null,
         null,
         null,
         null,
         null,
         null,
         "48970.1",
         null,
         null,
         null,
         null,
         null,
         null,
         null,
         null,
         null,
         null,
         null,
         null,
         "50148.7",
         null,
         null,
         null,
         null,
         null,
         null,
         null,
         null,
         null,
         null,
         null,
         null,
         null,
         null,
         null,
         null,
         null,
         null,
         null,
         null,
         null,
         null,
         null,
         null,
         null,
         null,
         null,
         null,
         null,
         null,
         null,
         null,
         null,
         null,
         null,
         null,
         null,
         null,
         null,
         null,
         null,
         null,
         null,
         null,
         null,
         null,
         null,
         null,
         null,
         null,
         null,
         null,
         null,
         null,
         null,
         null,
         null,
         null,
         null,
         null,
         null,
         null,
         null,
         null,
         null,
         null,
         null,
         null,
         null,
         null,
         null,
         null,
         null,
         null,
         null,
         null,
         null,
         null,
         null,
         null,
         null,
         null,
         null,
         null,
         null,
         null,
         null,
         null,
         null,
         null,
         null,
         null,
         null,
         null,
         null,
         null,
         null,
         null,
         null,
         null,
         null,
         null,
         null,
         null,
         null,
         null,
         null,
         null,
         null,
         null,
         null,
         null,
         null,
         null,
         null,
         null,
         null,
         null,
         null,
         null,
         null,
         null,
         null,
         null,
         null,
         null,
         null,
         null,
         null,
         null,
         null,
         null,
         null,
         null,
         null,
         null,
         null,
         "1420.0",
         "845.0",
         null,
         null,
         null,
         null,
         null,
         null,
         null,
         null,
         null,
         "2250.0",
         null,
         null,
         null,
         null,
         null,
         null,
         null,
         null,
         null,
         null,
         null,
         null,
         "1480.0",
         null,
         null,
         null,
         null,
         null,
         null,
         null,
         null,
         null,
         null,
         null,
         null,
         null,
         null,
         null,
         null,
         null,
         null,
         null,
         null,
         null,
         null,
         null,
         null,
         null,
         null,
         null,
         null,
         null,
         null,
         null,
         null,
         null,
         null,
         null,
         null,
         null,
         null,
         null,
         null,
         null,
         null,
         null,
         null,
         null,
         null,
         null,
         null,
         null,
         null,
         null,
         null,
         null,
         null,
         null,
         null,
         null,
         null,
         null,
         null,
         null,
         null,
         null,
         null,
         null,
         null,
         null,
         null,
         null,
         null,
         null,
         null,
         null,
         null,
         null,
         null,
         null,
         null,
         null,
         null,
         null,
         null,
         null,
         null,
         null,
         null,
         null,
         null,
         null,
         null,
         null,
         null,
         null,
         null,
         null,
         null,
         null,
         null,
         null,
         null,
         null,
         null,
         null,
         null,
         null,
         null,
         null,
         null,
         null,
         null,
         null,
         null,
         null,
         null,
         null,
         null,
         null,
         null,
         null,
         null,
         null,
         null,
         null,
         null,
         null,
         null,
         null,
         null,
         null,
         null,
         null,
         null,
         null,
         null,
         null,
         null,
         null
        ],
        [
         "2021-12-31 16:01:00",
         "47899.2",
         "47952.8",
         null,
         null,
         null,
         null,
         null,
         null,
         null,
         null,
         null,
         "48937.3",
         null,
         null,
         null,
         null,
         null,
         null,
         null,
         null,
         null,
         null,
         null,
         null,
         "50101.7",
         null,
         null,
         null,
         null,
         null,
         null,
         null,
         null,
         null,
         null,
         null,
         null,
         null,
         null,
         null,
         null,
         null,
         null,
         null,
         null,
         null,
         null,
         null,
         null,
         null,
         null,
         null,
         null,
         null,
         null,
         null,
         null,
         null,
         null,
         null,
         null,
         null,
         null,
         null,
         null,
         null,
         null,
         null,
         null,
         null,
         null,
         null,
         null,
         null,
         null,
         null,
         null,
         null,
         null,
         null,
         null,
         null,
         null,
         null,
         null,
         null,
         null,
         null,
         null,
         null,
         null,
         null,
         null,
         null,
         null,
         null,
         null,
         null,
         null,
         null,
         null,
         null,
         null,
         null,
         null,
         null,
         null,
         null,
         null,
         null,
         null,
         null,
         null,
         null,
         null,
         null,
         null,
         null,
         null,
         null,
         null,
         null,
         null,
         null,
         null,
         null,
         null,
         null,
         null,
         null,
         null,
         null,
         null,
         null,
         null,
         null,
         null,
         null,
         null,
         null,
         null,
         null,
         null,
         null,
         null,
         null,
         null,
         null,
         null,
         null,
         null,
         null,
         null,
         null,
         null,
         null,
         null,
         null,
         null,
         null,
         null,
         null,
         "386.0",
         "117.0",
         null,
         null,
         null,
         null,
         null,
         null,
         null,
         null,
         null,
         "889.0",
         null,
         null,
         null,
         null,
         null,
         null,
         null,
         null,
         null,
         null,
         null,
         null,
         "143.0",
         null,
         null,
         null,
         null,
         null,
         null,
         null,
         null,
         null,
         null,
         null,
         null,
         null,
         null,
         null,
         null,
         null,
         null,
         null,
         null,
         null,
         null,
         null,
         null,
         null,
         null,
         null,
         null,
         null,
         null,
         null,
         null,
         null,
         null,
         null,
         null,
         null,
         null,
         null,
         null,
         null,
         null,
         null,
         null,
         null,
         null,
         null,
         null,
         null,
         null,
         null,
         null,
         null,
         null,
         null,
         null,
         null,
         null,
         null,
         null,
         null,
         null,
         null,
         null,
         null,
         null,
         null,
         null,
         null,
         null,
         null,
         null,
         null,
         null,
         null,
         null,
         null,
         null,
         null,
         null,
         null,
         null,
         null,
         null,
         null,
         null,
         null,
         null,
         null,
         null,
         null,
         null,
         null,
         null,
         null,
         null,
         null,
         null,
         null,
         null,
         null,
         null,
         null,
         null,
         null,
         null,
         null,
         null,
         null,
         null,
         null,
         null,
         null,
         null,
         null,
         null,
         null,
         null,
         null,
         null,
         null,
         null,
         null,
         null,
         null,
         null,
         null,
         null,
         null,
         null,
         null,
         null,
         null,
         null,
         null,
         null,
         null
        ],
        [
         "2021-12-31 16:02:00",
         "47916.5",
         "47963.2",
         null,
         null,
         null,
         null,
         null,
         null,
         null,
         null,
         null,
         "48953.4",
         null,
         null,
         null,
         null,
         null,
         null,
         null,
         null,
         null,
         null,
         null,
         null,
         "50119.5",
         null,
         null,
         null,
         null,
         null,
         null,
         null,
         null,
         null,
         null,
         null,
         null,
         null,
         null,
         null,
         null,
         null,
         null,
         null,
         null,
         null,
         null,
         null,
         null,
         null,
         null,
         null,
         null,
         null,
         null,
         null,
         null,
         null,
         null,
         null,
         null,
         null,
         null,
         null,
         null,
         null,
         null,
         null,
         null,
         null,
         null,
         null,
         null,
         null,
         null,
         null,
         null,
         null,
         null,
         null,
         null,
         null,
         null,
         null,
         null,
         null,
         null,
         null,
         null,
         null,
         null,
         null,
         null,
         null,
         null,
         null,
         null,
         null,
         null,
         null,
         null,
         null,
         null,
         null,
         null,
         null,
         null,
         null,
         null,
         null,
         null,
         null,
         null,
         null,
         null,
         null,
         null,
         null,
         null,
         null,
         null,
         null,
         null,
         null,
         null,
         null,
         null,
         null,
         null,
         null,
         null,
         null,
         null,
         null,
         null,
         null,
         null,
         null,
         null,
         null,
         null,
         null,
         null,
         null,
         null,
         null,
         null,
         null,
         null,
         null,
         null,
         null,
         null,
         null,
         null,
         null,
         null,
         null,
         null,
         null,
         null,
         null,
         "157.0",
         "164.0",
         null,
         null,
         null,
         null,
         null,
         null,
         null,
         null,
         null,
         "654.0",
         null,
         null,
         null,
         null,
         null,
         null,
         null,
         null,
         null,
         null,
         null,
         null,
         "190.0",
         null,
         null,
         null,
         null,
         null,
         null,
         null,
         null,
         null,
         null,
         null,
         null,
         null,
         null,
         null,
         null,
         null,
         null,
         null,
         null,
         null,
         null,
         null,
         null,
         null,
         null,
         null,
         null,
         null,
         null,
         null,
         null,
         null,
         null,
         null,
         null,
         null,
         null,
         null,
         null,
         null,
         null,
         null,
         null,
         null,
         null,
         null,
         null,
         null,
         null,
         null,
         null,
         null,
         null,
         null,
         null,
         null,
         null,
         null,
         null,
         null,
         null,
         null,
         null,
         null,
         null,
         null,
         null,
         null,
         null,
         null,
         null,
         null,
         null,
         null,
         null,
         null,
         null,
         null,
         null,
         null,
         null,
         null,
         null,
         null,
         null,
         null,
         null,
         null,
         null,
         null,
         null,
         null,
         null,
         null,
         null,
         null,
         null,
         null,
         null,
         null,
         null,
         null,
         null,
         null,
         null,
         null,
         null,
         null,
         null,
         null,
         null,
         null,
         null,
         null,
         null,
         null,
         null,
         null,
         null,
         null,
         null,
         null,
         null,
         null,
         null,
         null,
         null,
         null,
         null,
         null,
         null,
         null,
         null,
         null,
         null,
         null
        ],
        [
         "2021-12-31 16:03:00",
         "47902.0",
         "47938.7",
         null,
         null,
         null,
         null,
         null,
         null,
         null,
         null,
         null,
         "48926.2",
         null,
         null,
         null,
         null,
         null,
         null,
         null,
         null,
         null,
         null,
         null,
         null,
         "50098.0",
         null,
         null,
         null,
         null,
         null,
         null,
         null,
         null,
         null,
         null,
         null,
         null,
         null,
         null,
         null,
         null,
         null,
         null,
         null,
         null,
         null,
         null,
         null,
         null,
         null,
         null,
         null,
         null,
         null,
         null,
         null,
         null,
         null,
         null,
         null,
         null,
         null,
         null,
         null,
         null,
         null,
         null,
         null,
         null,
         null,
         null,
         null,
         null,
         null,
         null,
         null,
         null,
         null,
         null,
         null,
         null,
         null,
         null,
         null,
         null,
         null,
         null,
         null,
         null,
         null,
         null,
         null,
         null,
         null,
         null,
         null,
         null,
         null,
         null,
         null,
         null,
         null,
         null,
         null,
         null,
         null,
         null,
         null,
         null,
         null,
         null,
         null,
         null,
         null,
         null,
         null,
         null,
         null,
         null,
         null,
         null,
         null,
         null,
         null,
         null,
         null,
         null,
         null,
         null,
         null,
         null,
         null,
         null,
         null,
         null,
         null,
         null,
         null,
         null,
         null,
         null,
         null,
         null,
         null,
         null,
         null,
         null,
         null,
         null,
         null,
         null,
         null,
         null,
         null,
         null,
         null,
         null,
         null,
         null,
         null,
         null,
         null,
         "118.0",
         "162.0",
         null,
         null,
         null,
         null,
         null,
         null,
         null,
         null,
         null,
         "490.0",
         null,
         null,
         null,
         null,
         null,
         null,
         null,
         null,
         null,
         null,
         null,
         null,
         "167.0",
         null,
         null,
         null,
         null,
         null,
         null,
         null,
         null,
         null,
         null,
         null,
         null,
         null,
         null,
         null,
         null,
         null,
         null,
         null,
         null,
         null,
         null,
         null,
         null,
         null,
         null,
         null,
         null,
         null,
         null,
         null,
         null,
         null,
         null,
         null,
         null,
         null,
         null,
         null,
         null,
         null,
         null,
         null,
         null,
         null,
         null,
         null,
         null,
         null,
         null,
         null,
         null,
         null,
         null,
         null,
         null,
         null,
         null,
         null,
         null,
         null,
         null,
         null,
         null,
         null,
         null,
         null,
         null,
         null,
         null,
         null,
         null,
         null,
         null,
         null,
         null,
         null,
         null,
         null,
         null,
         null,
         null,
         null,
         null,
         null,
         null,
         null,
         null,
         null,
         null,
         null,
         null,
         null,
         null,
         null,
         null,
         null,
         null,
         null,
         null,
         null,
         null,
         null,
         null,
         null,
         null,
         null,
         null,
         null,
         null,
         null,
         null,
         null,
         null,
         null,
         null,
         null,
         null,
         null,
         null,
         null,
         null,
         null,
         null,
         null,
         null,
         null,
         null,
         null,
         null,
         null,
         null,
         null,
         null,
         null,
         null,
         null
        ],
        [
         "2021-12-31 16:04:00",
         "47906.2",
         "47943.0",
         null,
         null,
         null,
         null,
         null,
         null,
         null,
         null,
         null,
         "48930.7",
         null,
         null,
         null,
         null,
         null,
         null,
         null,
         null,
         null,
         null,
         null,
         null,
         "50099.5",
         null,
         null,
         null,
         null,
         null,
         null,
         null,
         null,
         null,
         null,
         null,
         null,
         null,
         null,
         null,
         null,
         null,
         null,
         null,
         null,
         null,
         null,
         null,
         null,
         null,
         null,
         null,
         null,
         null,
         null,
         null,
         null,
         null,
         null,
         null,
         null,
         null,
         null,
         null,
         null,
         null,
         null,
         null,
         null,
         null,
         null,
         null,
         null,
         null,
         null,
         null,
         null,
         null,
         null,
         null,
         null,
         null,
         null,
         null,
         null,
         null,
         null,
         null,
         null,
         null,
         null,
         null,
         null,
         null,
         null,
         null,
         null,
         null,
         null,
         null,
         null,
         null,
         null,
         null,
         null,
         null,
         null,
         null,
         null,
         null,
         null,
         null,
         null,
         null,
         null,
         null,
         null,
         null,
         null,
         null,
         null,
         null,
         null,
         null,
         null,
         null,
         null,
         null,
         null,
         null,
         null,
         null,
         null,
         null,
         null,
         null,
         null,
         null,
         null,
         null,
         null,
         null,
         null,
         null,
         null,
         null,
         null,
         null,
         null,
         null,
         null,
         null,
         null,
         null,
         null,
         null,
         null,
         null,
         null,
         null,
         null,
         null,
         "97.0",
         "77.0",
         null,
         null,
         null,
         null,
         null,
         null,
         null,
         null,
         null,
         "149.0",
         null,
         null,
         null,
         null,
         null,
         null,
         null,
         null,
         null,
         null,
         null,
         null,
         "124.0",
         null,
         null,
         null,
         null,
         null,
         null,
         null,
         null,
         null,
         null,
         null,
         null,
         null,
         null,
         null,
         null,
         null,
         null,
         null,
         null,
         null,
         null,
         null,
         null,
         null,
         null,
         null,
         null,
         null,
         null,
         null,
         null,
         null,
         null,
         null,
         null,
         null,
         null,
         null,
         null,
         null,
         null,
         null,
         null,
         null,
         null,
         null,
         null,
         null,
         null,
         null,
         null,
         null,
         null,
         null,
         null,
         null,
         null,
         null,
         null,
         null,
         null,
         null,
         null,
         null,
         null,
         null,
         null,
         null,
         null,
         null,
         null,
         null,
         null,
         null,
         null,
         null,
         null,
         null,
         null,
         null,
         null,
         null,
         null,
         null,
         null,
         null,
         null,
         null,
         null,
         null,
         null,
         null,
         null,
         null,
         null,
         null,
         null,
         null,
         null,
         null,
         null,
         null,
         null,
         null,
         null,
         null,
         null,
         null,
         null,
         null,
         null,
         null,
         null,
         null,
         null,
         null,
         null,
         null,
         null,
         null,
         null,
         null,
         null,
         null,
         null,
         null,
         null,
         null,
         null,
         null,
         null,
         null,
         null,
         null,
         null,
         null
        ]
       ],
       "shape": {
        "columns": 324,
        "rows": 5
       }
      },
      "text/html": [
       "<div>\n",
       "<style scoped>\n",
       "    .dataframe tbody tr th:only-of-type {\n",
       "        vertical-align: middle;\n",
       "    }\n",
       "\n",
       "    .dataframe tbody tr th {\n",
       "        vertical-align: top;\n",
       "    }\n",
       "\n",
       "    .dataframe thead tr th {\n",
       "        text-align: left;\n",
       "    }\n",
       "\n",
       "    .dataframe thead tr:last-of-type th {\n",
       "        text-align: right;\n",
       "    }\n",
       "</style>\n",
       "<table border=\"1\" class=\"dataframe\">\n",
       "  <thead>\n",
       "    <tr>\n",
       "      <th></th>\n",
       "      <th colspan=\"10\" halign=\"left\">close</th>\n",
       "      <th>...</th>\n",
       "      <th colspan=\"10\" halign=\"left\">volume</th>\n",
       "    </tr>\n",
       "    <tr>\n",
       "      <th>symbol</th>\n",
       "      <th>BTC-USDT-220107</th>\n",
       "      <th>BTC-USDT-220114</th>\n",
       "      <th>BTC-USDT-220121</th>\n",
       "      <th>BTC-USDT-220128</th>\n",
       "      <th>BTC-USDT-220204</th>\n",
       "      <th>BTC-USDT-220211</th>\n",
       "      <th>BTC-USDT-220218</th>\n",
       "      <th>BTC-USDT-220225</th>\n",
       "      <th>BTC-USDT-220304</th>\n",
       "      <th>BTC-USDT-220311</th>\n",
       "      <th>...</th>\n",
       "      <th>BTC-USDT-241206</th>\n",
       "      <th>BTC-USDT-241213</th>\n",
       "      <th>BTC-USDT-241220</th>\n",
       "      <th>BTC-USDT-241227</th>\n",
       "      <th>BTC-USDT-250103</th>\n",
       "      <th>BTC-USDT-250110</th>\n",
       "      <th>BTC-USDT-250131</th>\n",
       "      <th>BTC-USDT-250228</th>\n",
       "      <th>BTC-USDT-250328</th>\n",
       "      <th>BTC-USDT-250627</th>\n",
       "    </tr>\n",
       "    <tr>\n",
       "      <th>timestamp</th>\n",
       "      <th></th>\n",
       "      <th></th>\n",
       "      <th></th>\n",
       "      <th></th>\n",
       "      <th></th>\n",
       "      <th></th>\n",
       "      <th></th>\n",
       "      <th></th>\n",
       "      <th></th>\n",
       "      <th></th>\n",
       "      <th></th>\n",
       "      <th></th>\n",
       "      <th></th>\n",
       "      <th></th>\n",
       "      <th></th>\n",
       "      <th></th>\n",
       "      <th></th>\n",
       "      <th></th>\n",
       "      <th></th>\n",
       "      <th></th>\n",
       "      <th></th>\n",
       "    </tr>\n",
       "  </thead>\n",
       "  <tbody>\n",
       "    <tr>\n",
       "      <th>2021-12-31 16:00:00</th>\n",
       "      <td>47952.9</td>\n",
       "      <td>48006.6</td>\n",
       "      <td>NaN</td>\n",
       "      <td>NaN</td>\n",
       "      <td>NaN</td>\n",
       "      <td>NaN</td>\n",
       "      <td>NaN</td>\n",
       "      <td>NaN</td>\n",
       "      <td>NaN</td>\n",
       "      <td>NaN</td>\n",
       "      <td>...</td>\n",
       "      <td>NaN</td>\n",
       "      <td>NaN</td>\n",
       "      <td>NaN</td>\n",
       "      <td>NaN</td>\n",
       "      <td>NaN</td>\n",
       "      <td>NaN</td>\n",
       "      <td>NaN</td>\n",
       "      <td>NaN</td>\n",
       "      <td>NaN</td>\n",
       "      <td>NaN</td>\n",
       "    </tr>\n",
       "    <tr>\n",
       "      <th>2021-12-31 16:01:00</th>\n",
       "      <td>47899.2</td>\n",
       "      <td>47952.8</td>\n",
       "      <td>NaN</td>\n",
       "      <td>NaN</td>\n",
       "      <td>NaN</td>\n",
       "      <td>NaN</td>\n",
       "      <td>NaN</td>\n",
       "      <td>NaN</td>\n",
       "      <td>NaN</td>\n",
       "      <td>NaN</td>\n",
       "      <td>...</td>\n",
       "      <td>NaN</td>\n",
       "      <td>NaN</td>\n",
       "      <td>NaN</td>\n",
       "      <td>NaN</td>\n",
       "      <td>NaN</td>\n",
       "      <td>NaN</td>\n",
       "      <td>NaN</td>\n",
       "      <td>NaN</td>\n",
       "      <td>NaN</td>\n",
       "      <td>NaN</td>\n",
       "    </tr>\n",
       "    <tr>\n",
       "      <th>2021-12-31 16:02:00</th>\n",
       "      <td>47916.5</td>\n",
       "      <td>47963.2</td>\n",
       "      <td>NaN</td>\n",
       "      <td>NaN</td>\n",
       "      <td>NaN</td>\n",
       "      <td>NaN</td>\n",
       "      <td>NaN</td>\n",
       "      <td>NaN</td>\n",
       "      <td>NaN</td>\n",
       "      <td>NaN</td>\n",
       "      <td>...</td>\n",
       "      <td>NaN</td>\n",
       "      <td>NaN</td>\n",
       "      <td>NaN</td>\n",
       "      <td>NaN</td>\n",
       "      <td>NaN</td>\n",
       "      <td>NaN</td>\n",
       "      <td>NaN</td>\n",
       "      <td>NaN</td>\n",
       "      <td>NaN</td>\n",
       "      <td>NaN</td>\n",
       "    </tr>\n",
       "    <tr>\n",
       "      <th>2021-12-31 16:03:00</th>\n",
       "      <td>47902.0</td>\n",
       "      <td>47938.7</td>\n",
       "      <td>NaN</td>\n",
       "      <td>NaN</td>\n",
       "      <td>NaN</td>\n",
       "      <td>NaN</td>\n",
       "      <td>NaN</td>\n",
       "      <td>NaN</td>\n",
       "      <td>NaN</td>\n",
       "      <td>NaN</td>\n",
       "      <td>...</td>\n",
       "      <td>NaN</td>\n",
       "      <td>NaN</td>\n",
       "      <td>NaN</td>\n",
       "      <td>NaN</td>\n",
       "      <td>NaN</td>\n",
       "      <td>NaN</td>\n",
       "      <td>NaN</td>\n",
       "      <td>NaN</td>\n",
       "      <td>NaN</td>\n",
       "      <td>NaN</td>\n",
       "    </tr>\n",
       "    <tr>\n",
       "      <th>2021-12-31 16:04:00</th>\n",
       "      <td>47906.2</td>\n",
       "      <td>47943.0</td>\n",
       "      <td>NaN</td>\n",
       "      <td>NaN</td>\n",
       "      <td>NaN</td>\n",
       "      <td>NaN</td>\n",
       "      <td>NaN</td>\n",
       "      <td>NaN</td>\n",
       "      <td>NaN</td>\n",
       "      <td>NaN</td>\n",
       "      <td>...</td>\n",
       "      <td>NaN</td>\n",
       "      <td>NaN</td>\n",
       "      <td>NaN</td>\n",
       "      <td>NaN</td>\n",
       "      <td>NaN</td>\n",
       "      <td>NaN</td>\n",
       "      <td>NaN</td>\n",
       "      <td>NaN</td>\n",
       "      <td>NaN</td>\n",
       "      <td>NaN</td>\n",
       "    </tr>\n",
       "  </tbody>\n",
       "</table>\n",
       "<p>5 rows × 324 columns</p>\n",
       "</div>"
      ],
      "text/plain": [
       "                              close                                  \\\n",
       "symbol              BTC-USDT-220107 BTC-USDT-220114 BTC-USDT-220121   \n",
       "timestamp                                                             \n",
       "2021-12-31 16:00:00         47952.9         48006.6             NaN   \n",
       "2021-12-31 16:01:00         47899.2         47952.8             NaN   \n",
       "2021-12-31 16:02:00         47916.5         47963.2             NaN   \n",
       "2021-12-31 16:03:00         47902.0         47938.7             NaN   \n",
       "2021-12-31 16:04:00         47906.2         47943.0             NaN   \n",
       "\n",
       "                                                                     \\\n",
       "symbol              BTC-USDT-220128 BTC-USDT-220204 BTC-USDT-220211   \n",
       "timestamp                                                             \n",
       "2021-12-31 16:00:00             NaN             NaN             NaN   \n",
       "2021-12-31 16:01:00             NaN             NaN             NaN   \n",
       "2021-12-31 16:02:00             NaN             NaN             NaN   \n",
       "2021-12-31 16:03:00             NaN             NaN             NaN   \n",
       "2021-12-31 16:04:00             NaN             NaN             NaN   \n",
       "\n",
       "                                                                     \\\n",
       "symbol              BTC-USDT-220218 BTC-USDT-220225 BTC-USDT-220304   \n",
       "timestamp                                                             \n",
       "2021-12-31 16:00:00             NaN             NaN             NaN   \n",
       "2021-12-31 16:01:00             NaN             NaN             NaN   \n",
       "2021-12-31 16:02:00             NaN             NaN             NaN   \n",
       "2021-12-31 16:03:00             NaN             NaN             NaN   \n",
       "2021-12-31 16:04:00             NaN             NaN             NaN   \n",
       "\n",
       "                                     ...          volume                  \\\n",
       "symbol              BTC-USDT-220311  ... BTC-USDT-241206 BTC-USDT-241213   \n",
       "timestamp                            ...                                   \n",
       "2021-12-31 16:00:00             NaN  ...             NaN             NaN   \n",
       "2021-12-31 16:01:00             NaN  ...             NaN             NaN   \n",
       "2021-12-31 16:02:00             NaN  ...             NaN             NaN   \n",
       "2021-12-31 16:03:00             NaN  ...             NaN             NaN   \n",
       "2021-12-31 16:04:00             NaN  ...             NaN             NaN   \n",
       "\n",
       "                                                                     \\\n",
       "symbol              BTC-USDT-241220 BTC-USDT-241227 BTC-USDT-250103   \n",
       "timestamp                                                             \n",
       "2021-12-31 16:00:00             NaN             NaN             NaN   \n",
       "2021-12-31 16:01:00             NaN             NaN             NaN   \n",
       "2021-12-31 16:02:00             NaN             NaN             NaN   \n",
       "2021-12-31 16:03:00             NaN             NaN             NaN   \n",
       "2021-12-31 16:04:00             NaN             NaN             NaN   \n",
       "\n",
       "                                                                     \\\n",
       "symbol              BTC-USDT-250110 BTC-USDT-250131 BTC-USDT-250228   \n",
       "timestamp                                                             \n",
       "2021-12-31 16:00:00             NaN             NaN             NaN   \n",
       "2021-12-31 16:01:00             NaN             NaN             NaN   \n",
       "2021-12-31 16:02:00             NaN             NaN             NaN   \n",
       "2021-12-31 16:03:00             NaN             NaN             NaN   \n",
       "2021-12-31 16:04:00             NaN             NaN             NaN   \n",
       "\n",
       "                                                     \n",
       "symbol              BTC-USDT-250328 BTC-USDT-250627  \n",
       "timestamp                                            \n",
       "2021-12-31 16:00:00             NaN             NaN  \n",
       "2021-12-31 16:01:00             NaN             NaN  \n",
       "2021-12-31 16:02:00             NaN             NaN  \n",
       "2021-12-31 16:03:00             NaN             NaN  \n",
       "2021-12-31 16:04:00             NaN             NaN  \n",
       "\n",
       "[5 rows x 324 columns]"
      ]
     },
     "metadata": {},
     "output_type": "display_data"
    }
   ],
   "source": [
    "pivot_df = df.pivot(index='timestamp', columns='symbol', values=['close', 'volume'])\n",
    "display(pivot_df.head())"
   ]
  },
  {
   "cell_type": "markdown",
   "id": "7ce45fa8",
   "metadata": {},
   "source": [
    "### Index Continuity Check and Gap Detection\n",
    "\n",
    "The code below checks whether the time index of the pivoted DataFrame (`pivot_df`) is continuous at a 1-minute frequency. It performs the following steps:\n",
    "\n",
    "- **Sorts the Index:**  \n",
    "    Ensures the DataFrame is sorted by timestamp for accurate comparison.\n",
    "\n",
    "- **Converts Index to Datetime:**  \n",
    "    Converts the index to pandas `DatetimeIndex` for time-based operations.\n",
    "\n",
    "- **Creates a Complete 1-Minute Index:**  \n",
    "    Generates a full range of timestamps from the minimum to the maximum timestamp at 1-minute intervals.\n",
    "\n",
    "- **Identifies Missing Timestamps:**  \n",
    "    Finds timestamps present in the complete index but missing from the DataFrame index, indicating gaps in the data.\n",
    "\n",
    "- **Reports Gaps:**  \n",
    "    Prints a message indicating whether the index is continuous or reports the number of missing 1-minute timestamps.\n",
    "\n",
    "This step is crucial for high-frequency financial data analysis, as missing timestamps can affect downstream calculations and modeling. Detecting and quantifying these gaps allows for appropriate handling, such as imputation or exclusion."
   ]
  },
  {
   "cell_type": "code",
   "execution_count": 11,
   "id": "75744bee",
   "metadata": {},
   "outputs": [
    {
     "name": "stdout",
     "output_type": "stream",
     "text": [
      "Found 187790 missing 1-min timestamps in index.\n"
     ]
    }
   ],
   "source": [
    "pivot_df_sorted = pivot_df.sort_index()\n",
    "pivot_df_sorted.index = pd.to_datetime(pivot_df_sorted.index)\n",
    "\n",
    "full_index = pd.date_range(start=pivot_df_sorted.index.min(), end=pivot_df_sorted.index.max(), freq='1min')\n",
    "\n",
    "missing = full_index.difference(pivot_df_sorted.index)\n",
    "\n",
    "if len(missing) == 0:\n",
    "    print(\"index is continuous with 1-min frequency, no gaps found.\")\n",
    "else:\n",
    "    print(f\"Found {len(missing)} missing 1-min timestamps in index.\")\n"
   ]
  },
  {
   "cell_type": "code",
   "execution_count": 12,
   "id": "2107bfd4",
   "metadata": {},
   "outputs": [],
   "source": [
    "grouped_missing = np.split(missing, np.where(np.diff(missing.astype(np.int64)) != 60_000_000_000)[0] + 1)\n",
    "group_sizes = [len(g) for g in grouped_missing if len(g) > 0]"
   ]
  },
  {
   "cell_type": "markdown",
   "id": "fd337f45",
   "metadata": {},
   "source": [
    "### Gap Distribution Analysis\n",
    "\n",
    "Upon analyzing the missing data, we observed that the majority of missing intervals are concentrated in a small number of large, continuous gaps. These represent extended periods where data is absent, likely due to system outages or exchange-level interruptions. In contrast, there is a long tail of much smaller gaps—typically under 15 minutes (or bars)—that are scattered throughout the dataset. These short gaps may result from sporadic data transmission issues or brief connectivity losses. Understanding this distribution is crucial for selecting appropriate imputation strategies, as large gaps may require more sophisticated methods, while short gaps can often be addressed with simpler techniques or forward-filling."
   ]
  },
  {
   "cell_type": "code",
   "execution_count": 14,
   "id": "8f5f5495",
   "metadata": {},
   "outputs": [
    {
     "data": {
      "image/png": "[encoded data removed]",
      "text/plain": [
       "<Figure size 1000x600 with 1 Axes>"
      ]
     },
     "metadata": {},
     "output_type": "display_data"
    }
   ],
   "source": [
    "plt.figure(figsize=(10, 6))\n",
    "n, bins, patches = plt.hist(group_sizes, bins=50, edgecolor='k')\n",
    "plt.xlabel('Gap Size (minutes)')\n",
    "plt.ylabel('Frequency')\n",
    "plt.title('Distribution of Gap Sizes in Missing Data')\n",
    "plt.yscale('log')\n",
    "plt.xticks(bins, rotation=90)\n",
    "plt.show()"
   ]
  },
  {
   "cell_type": "code",
   "execution_count": null,
   "id": "e0a6642e",
   "metadata": {},
   "outputs": [
    {
     "name": "stdout",
     "output_type": "stream",
     "text": [
      "Total number of gaps found: 96386\n",
      "Top 25 largest gaps in minutes:\n",
      "17280\n",
      "6405\n",
      "1500\n",
      "1440\n",
      "1440\n",
      "652\n",
      "180\n",
      "103\n",
      "60\n",
      "59\n",
      "59\n",
      "50\n",
      "48\n",
      "43\n",
      "43\n",
      "37\n",
      "33\n",
      "31\n",
      "30\n",
      "29\n",
      "28\n",
      "27\n",
      "27\n",
      "27\n",
      "26\n"
     ]
    }
   ],
   "source": [
    "group_sizes.sort(reverse=True)\n",
    "print(\"Total number of gaps found:\", len(group_sizes))\n",
    "print(\"Top 25 largest gaps in minutes:\")\n",
    "for size in group_sizes[:25]:\n",
    "    print(size)"
   ]
  },
  {
   "cell_type": "markdown",
   "id": "83846631",
   "metadata": {},
   "source": [
    "### Brownian Bridge Gap Imputation Method\n",
    "\n",
    "The `brownian_bridge_gap` function is designed to fill missing time intervals (gaps) in high-frequency financial time series data, such as cryptocurrency prices. It uses a Brownian bridge process to generate realistic synthetic data for the missing periods.\n",
    "\n",
    "**Key Steps:**\n",
    "\n",
    "- **Context Extraction:**  \n",
    "    The function identifies a window of data before and after the gap to estimate the starting and ending prices, as well as the volatility.\n",
    "\n",
    "- **Brownian Bridge Construction:**  \n",
    "    It simulates a log-price path that starts at the log of the last known price before the gap and ends at the log of the first known price after the gap. The path is generated using a Brownian bridge, ensuring a smooth and realistic transition.\n",
    "\n",
    "- **Price Generation:**  \n",
    "    The simulated log-prices are exponentiated to obtain the actual prices. Open, high, low, and close prices are constructed for each missing interval, with high and low prices perturbed to reflect realistic price ranges.\n",
    "\n",
    "- **Volume Imputation:**  \n",
    "    The function estimates the typical volume profile by time of day and uses it to generate plausible synthetic volumes for the missing intervals.\n",
    "\n",
    "This method ensures that the imputed data is statistically consistent with the observed data, preserving both price dynamics and volume patterns."
   ]
  },
  {
   "cell_type": "code",
   "execution_count": null,
   "id": "8237080d",
   "metadata": {},
   "outputs": [],
   "source": [
    "def brownian_bridge_gap(df, gap_start, gap_end, freq=\"5min\"):\n",
    "    min_idx = df.index.min()\n",
    "    max_idx = df.index.max()\n",
    "\n",
    "    before_start = max(gap_start - pd.Timedelta(\"5min\"), min_idx)\n",
    "    before_end = max(gap_start - pd.Timedelta(freq), min_idx)\n",
    "    after_start = min(gap_end + pd.Timedelta(freq), max_idx)\n",
    "    after_end = min(gap_end + pd.Timedelta(\"5min\"), max_idx)\n",
    " \n",
    "    before_mask = (df.index >= before_start) & (df.index <= before_end)\n",
    "    after_mask = (df.index >= after_start) & (df.index <= after_end)\n",
    "    \n",
    "    before = df.loc[before_mask]\n",
    "    after = df.loc[after_mask]\n",
    "\n",
    "    if before.empty:\n",
    "        before = df.loc[[min_idx]]\n",
    "    if after.empty:\n",
    "        after = df.loc[[max_idx]]\n",
    "    \n",
    "    P0, PT = np.log(before.close.iloc[-1]), np.log(after.close.iloc[0])  \n",
    "\n",
    "    logret = pd.concat([np.log(before.close).diff().dropna(), np.log(after.close).diff().dropna()])\n",
    "    sigma  = np.sqrt((logret**2).mean())\n",
    "\n",
    "    idx  = pd.date_range(gap_start, gap_end, freq=freq, tz=df.index.tz)\n",
    "    dt   = (idx - idx[0]).total_seconds() / 60.\n",
    "    T    = dt[-1]\n",
    "    Z    = np.random.normal(size=len(idx))               \n",
    "    W    = np.cumsum(np.insert(Z[:-1], 0, 0)) * np.sqrt(5/60)  \n",
    "    bridge = P0 + (dt/T)*(PT-P0) + sigma*(W - dt/T*W[-1])\n",
    "    closes = np.exp(bridge)\n",
    "\n",
    "    gap = pd.DataFrame(index=idx)\n",
    "    gap['close'] = closes\n",
    "    gap['open'] = np.concatenate([[np.exp(P0)], closes[:-1]])\n",
    "    rng          = np.abs(np.random.normal(scale=sigma*np.sqrt(5/60), size=len(idx)))\n",
    "    gap['high']  = gap[['open','close']].max(axis=1) * np.exp(rng)\n",
    "    gap['low']   = gap[['open','close']].min(axis=1) * np.exp(-rng)\n",
    "\n",
    "    tod_profile = df['volume'].groupby(df.index.time).mean()\n",
    "    \n",
    "    gap_times = pd.Index(idx.time)\n",
    "    available_times = tod_profile.index.intersection(gap_times)\n",
    "    \n",
    "    if len(available_times) == 0:\n",
    "        weights = np.ones(len(idx))\n",
    "    else:\n",
    "        weights = np.array([tod_profile.get(t, tod_profile.mean()) for t in gap_times])\n",
    "    \n",
    "    weights = weights / weights.sum()\n",
    "    total_vol = 0.5 * (before.volume.mean() + after.volume.mean()) * len(idx) / len(before)\n",
    "    gap['volume'] = np.random.poisson(weights * total_vol)\n",
    "\n",
    "    return gap"
   ]
  },
  {
   "cell_type": "code",
   "execution_count": null,
   "id": "ddfd4ae1",
   "metadata": {},
   "outputs": [],
   "source": [
    "imputed_df = pd.DataFrame()\n",
    "\n",
    "for symbol in df['symbol'].unique():\n",
    "    symbol_df = df[df['symbol'] == symbol]\n",
    "    symbol_df.set_index('timestamp', inplace=True)\n",
    "    symbol_df.index = pd.to_datetime(symbol_df.index)\n",
    "    symbol_df.sort_index(inplace=True)\n",
    "\n",
    "    symbol_full_index = pd.date_range(start=symbol_df.index.min(), end=symbol_df.index.max(), freq='1min')\n",
    "    missing_times = symbol_full_index.difference(symbol_df.index)\n",
    "\n",
    "    if len(missing_times) > 0:\n",
    "        missing_groups = np.split(missing_times, np.where(np.diff(missing_times.astype(np.int64)) != 60_000_000_000)[0]+1)\n",
    "        for group in missing_groups:\n",
    "            if len(group) <= 15:\n",
    "                continue\n",
    "            gap_start = group[0]\n",
    "            gap_end = group[-1]\n",
    "            gap_df = brownian_bridge_gap(symbol_df, gap_start, gap_end, freq=\"1min\")\n",
    "            gap_df['symbol'] = symbol\n",
    "\n",
    "            symbol_df = pd.concat([symbol_df, gap_df], axis=0)\n",
    "        symbol_df.sort_index(inplace=True)\n",
    "        \n",
    "        imputed_df = pd.concat([imputed_df, symbol_df], axis=0)\n"
   ]
  },
  {
   "cell_type": "code",
   "execution_count": 22,
   "id": "a4d9e24e",
   "metadata": {},
   "outputs": [],
   "source": [
    "imputed_df.index.name = 'timestamp'"
   ]
  },
  {
   "cell_type": "code",
   "execution_count": 25,
   "id": "b8aff2ad",
   "metadata": {},
   "outputs": [],
   "source": [
    "imputed_df.reset_index(inplace=True)"
   ]
  },
  {
   "cell_type": "code",
   "execution_count": 24,
   "id": "82f9f320",
   "metadata": {},
   "outputs": [
    {
     "data": {
      "application/vnd.microsoft.datawrangler.viewer.v0+json": {
       "columns": [
        {
         "name": "timestamp",
         "rawType": "datetime64[ns]",
         "type": "datetime"
        },
        {
         "name": "symbol",
         "rawType": "object",
         "type": "string"
        },
        {
         "name": "open",
         "rawType": "float64",
         "type": "float"
        },
        {
         "name": "high",
         "rawType": "float64",
         "type": "float"
        },
        {
         "name": "low",
         "rawType": "float64",
         "type": "float"
        },
        {
         "name": "close",
         "rawType": "float64",
         "type": "float"
        },
        {
         "name": "volume",
         "rawType": "float64",
         "type": "float"
        }
       ],
       "ref": "a518b6b1-c1ee-42ea-ad92-fbe504a2fd6d",
       "rows": [
        [
         "2021-12-31 16:00:00",
         "BTC-USDT-220107",
         "47952.0",
         "47973.2",
         "47886.1",
         "47952.9",
         "1420.0"
        ],
        [
         "2021-12-31 16:01:00",
         "BTC-USDT-220107",
         "47953.6",
         "47958.7",
         "47899.2",
         "47899.2",
         "386.0"
        ],
        [
         "2021-12-31 16:02:00",
         "BTC-USDT-220107",
         "47898.5",
         "47939.0",
         "47896.3",
         "47916.5",
         "157.0"
        ],
        [
         "2021-12-31 16:03:00",
         "BTC-USDT-220107",
         "47915.4",
         "47921.7",
         "47867.0",
         "47902.0",
         "118.0"
        ],
        [
         "2021-12-31 16:04:00",
         "BTC-USDT-220107",
         "47904.6",
         "47915.0",
         "47888.4",
         "47906.2",
         "97.0"
        ]
       ],
       "shape": {
        "columns": 6,
        "rows": 5
       }
      },
      "text/html": [
       "<div>\n",
       "<style scoped>\n",
       "    .dataframe tbody tr th:only-of-type {\n",
       "        vertical-align: middle;\n",
       "    }\n",
       "\n",
       "    .dataframe tbody tr th {\n",
       "        vertical-align: top;\n",
       "    }\n",
       "\n",
       "    .dataframe thead th {\n",
       "        text-align: right;\n",
       "    }\n",
       "</style>\n",
       "<table border=\"1\" class=\"dataframe\">\n",
       "  <thead>\n",
       "    <tr style=\"text-align: right;\">\n",
       "      <th></th>\n",
       "      <th>symbol</th>\n",
       "      <th>open</th>\n",
       "      <th>high</th>\n",
       "      <th>low</th>\n",
       "      <th>close</th>\n",
       "      <th>volume</th>\n",
       "    </tr>\n",
       "    <tr>\n",
       "      <th>timestamp</th>\n",
       "      <th></th>\n",
       "      <th></th>\n",
       "      <th></th>\n",
       "      <th></th>\n",
       "      <th></th>\n",
       "      <th></th>\n",
       "    </tr>\n",
       "  </thead>\n",
       "  <tbody>\n",
       "    <tr>\n",
       "      <th>2021-12-31 16:00:00</th>\n",
       "      <td>BTC-USDT-220107</td>\n",
       "      <td>47952.0</td>\n",
       "      <td>47973.2</td>\n",
       "      <td>47886.1</td>\n",
       "      <td>47952.9</td>\n",
       "      <td>1420.0</td>\n",
       "    </tr>\n",
       "    <tr>\n",
       "      <th>2021-12-31 16:01:00</th>\n",
       "      <td>BTC-USDT-220107</td>\n",
       "      <td>47953.6</td>\n",
       "      <td>47958.7</td>\n",
       "      <td>47899.2</td>\n",
       "      <td>47899.2</td>\n",
       "      <td>386.0</td>\n",
       "    </tr>\n",
       "    <tr>\n",
       "      <th>2021-12-31 16:02:00</th>\n",
       "      <td>BTC-USDT-220107</td>\n",
       "      <td>47898.5</td>\n",
       "      <td>47939.0</td>\n",
       "      <td>47896.3</td>\n",
       "      <td>47916.5</td>\n",
       "      <td>157.0</td>\n",
       "    </tr>\n",
       "    <tr>\n",
       "      <th>2021-12-31 16:03:00</th>\n",
       "      <td>BTC-USDT-220107</td>\n",
       "      <td>47915.4</td>\n",
       "      <td>47921.7</td>\n",
       "      <td>47867.0</td>\n",
       "      <td>47902.0</td>\n",
       "      <td>118.0</td>\n",
       "    </tr>\n",
       "    <tr>\n",
       "      <th>2021-12-31 16:04:00</th>\n",
       "      <td>BTC-USDT-220107</td>\n",
       "      <td>47904.6</td>\n",
       "      <td>47915.0</td>\n",
       "      <td>47888.4</td>\n",
       "      <td>47906.2</td>\n",
       "      <td>97.0</td>\n",
       "    </tr>\n",
       "  </tbody>\n",
       "</table>\n",
       "</div>"
      ],
      "text/plain": [
       "                              symbol     open     high      low    close  \\\n",
       "timestamp                                                                  \n",
       "2021-12-31 16:00:00  BTC-USDT-220107  47952.0  47973.2  47886.1  47952.9   \n",
       "2021-12-31 16:01:00  BTC-USDT-220107  47953.6  47958.7  47899.2  47899.2   \n",
       "2021-12-31 16:02:00  BTC-USDT-220107  47898.5  47939.0  47896.3  47916.5   \n",
       "2021-12-31 16:03:00  BTC-USDT-220107  47915.4  47921.7  47867.0  47902.0   \n",
       "2021-12-31 16:04:00  BTC-USDT-220107  47904.6  47915.0  47888.4  47906.2   \n",
       "\n",
       "                     volume  \n",
       "timestamp                    \n",
       "2021-12-31 16:00:00  1420.0  \n",
       "2021-12-31 16:01:00   386.0  \n",
       "2021-12-31 16:02:00   157.0  \n",
       "2021-12-31 16:03:00   118.0  \n",
       "2021-12-31 16:04:00    97.0  "
      ]
     },
     "metadata": {},
     "output_type": "display_data"
    }
   ],
   "source": [
    "display((imputed_df.head()))"
   ]
  },
  {
   "cell_type": "markdown",
   "id": "6fbb242a",
   "metadata": {},
   "source": [
    "### Final Imputation and Forward-Filling\n",
    "\n",
    "In this step, we construct the final imputed DataFrame (`imputed_df_final`) by ensuring that each symbol's time series is continuous at a 1-minute frequency. For each unique symbol:\n",
    "\n",
    "- **Subset and Indexing:**  \n",
    "    The data for each symbol is extracted and the `timestamp` column is converted to a datetime index.\n",
    "\n",
    "- **Resampling and Forward-Filling:**  \n",
    "    The data is resampled to a 1-minute frequency using `.resample('1min').ffill()`, which fills any remaining missing timestamps by carrying forward the last available observation. This ensures that the time series for each symbol has no gaps.\n",
    "\n",
    "- **Concatenation:**  \n",
    "    The processed data for each symbol is concatenated into the final DataFrame.\n",
    "\n",
    "This approach guarantees a fully continuous 1-minute time series for all symbols, which is essential for downstream analysis and modeling that require regularly spaced data."
   ]
  },
  {
   "cell_type": "code",
   "execution_count": null,
   "id": "d60cd51c",
   "metadata": {},
   "outputs": [],
   "source": [
    "imputed_df_final = pd.DataFrame()\n",
    "\n",
    "symbols = imputed_df_final['symbol'].unique()\n",
    "\n",
    "for symbol in symbols:\n",
    "    symbol_df = df[df['symbol'] == symbol].copy()\n",
    "    symbol_df['timestamp'] = pd.to_datetime(symbol_df['timestamp'])\n",
    "    symbol_df.set_index('timestamp', inplace=True)\n",
    "    \n",
    "    symbol_df = symbol_df.resample('1min').ffill()\n",
    "\n",
    "    imputed_df_final = pd.concat([imputed_df_final, symbol_df], axis=0)"
   ]
  },
  {
   "cell_type": "markdown",
   "id": "4a687ee5",
   "metadata": {},
   "source": [
    "### Data Persistence for Future Use"
   ]
  },
  {
   "cell_type": "code",
   "execution_count": 18,
   "id": "f3973434",
   "metadata": {},
   "outputs": [],
   "source": [
    "imputed_df.to_csv('../data/btc_1m_futures_data_imputed.csv', index=True)"
   ]
  }
 ],
 "metadata": {
  "kernelspec": {
   "display_name": "base",
   "language": "python",
   "name": "python3"
  },
  "language_info": {
   "codemirror_mode": {
    "name": "ipython",
    "version": 3
   },
   "file_extension": ".py",
   "mimetype": "text/x-python",
   "name": "python",
   "nbconvert_exporter": "python",
   "pygments_lexer": "ipython3",
   "version": "3.11.0"
  }
 },
 "nbformat": 4,
 "nbformat_minor": 5
}
